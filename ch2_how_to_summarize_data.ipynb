{
 "cells": [
  {
   "cell_type": "code",
   "execution_count": 27,
   "metadata": {},
   "outputs": [],
   "source": [
    "import numpy as np\n",
    "import random\n",
    "import matplotlib.pyplot as plt"
   ]
  },
  {
   "cell_type": "markdown",
   "metadata": {},
   "source": [
    "### Chapter 2\n",
    "#### Problem 2-1: Viral Load"
   ]
  },
  {
   "cell_type": "code",
   "execution_count": 28,
   "metadata": {},
   "outputs": [],
   "source": [
    "viral_load = [79725,12862,18022,76712,256440,14013,46083,6808,85781,1251,6081,50397,11020,13633,1064,496433,25308,6616,11210,13900]"
   ]
  },
  {
   "cell_type": "code",
   "execution_count": 29,
   "metadata": {},
   "outputs": [],
   "source": [
    "# explicit way of calculating mean, median, standard deviation, 25th and 75th percentiles\n",
    "viral_load.sort()\n",
    "load_mean = sum(viral_load)/len(viral_load)\n",
    "load_median = (viral_load[9]+viral_load[10])/2\n",
    "load_25th = (viral_load[4]+viral_load[5])/2\n",
    "load_75th = (viral_load[14]+viral_load[15])/2\n",
    "load_sd = (sum([(i-load_mean)**2 for i in viral_load])/(len(viral_load)-1))**0.5"
   ]
  },
  {
   "cell_type": "code",
   "execution_count": 30,
   "metadata": {},
   "outputs": [
    {
     "data": {
      "image/png": "[encoded data removed]",
      "text/plain": [
       "<Figure size 432x288 with 1 Axes>"
      ]
     },
     "metadata": {
      "needs_background": "light"
     },
     "output_type": "display_data"
    }
   ],
   "source": [
    "plt.hist(viral_load, bins=5);"
   ]
  },
  {
   "cell_type": "code",
   "execution_count": 31,
   "metadata": {},
   "outputs": [
    {
     "data": {
      "text/plain": [
       "(61667.95, 13956.5, 117539.29123599702, 8914.0, 63554.5)"
      ]
     },
     "execution_count": 31,
     "metadata": {},
     "output_type": "execute_result"
    }
   ],
   "source": [
    "load_mean, load_median, load_sd, load_25th, load_75th"
   ]
  },
  {
   "cell_type": "markdown",
   "metadata": {},
   "source": [
    "#### Problem 2-2: Viral Load (log-transformed)"
   ]
  },
  {
   "cell_type": "code",
   "execution_count": 32,
   "metadata": {},
   "outputs": [],
   "source": [
    "viral_load = np.log10(viral_load)"
   ]
  },
  {
   "cell_type": "code",
   "execution_count": 33,
   "metadata": {},
   "outputs": [],
   "source": [
    "# explicit way of calculating mean, median, standard deviation, 25th and 75th percentiles\n",
    "viral_load.sort()\n",
    "load_mean = sum(viral_load)/len(viral_load)\n",
    "load_median = (viral_load[9]+viral_load[10])/2\n",
    "load_25th = (viral_load[4]+viral_load[5])/2\n",
    "load_75th = (viral_load[14]+viral_load[15])/2\n",
    "load_sd = (sum([(i-load_mean)**2 for i in viral_load])/(len(viral_load)-1))**0.5"
   ]
  },
  {
   "cell_type": "code",
   "execution_count": 34,
   "metadata": {},
   "outputs": [
    {
     "data": {
      "text/plain": [
       "(4.301836182176487,\n",
       " 4.14477296113077,\n",
       " 0.6732723713344172,\n",
       " 3.937600570796149,\n",
       " 4.793633995216898)"
      ]
     },
     "execution_count": 34,
     "metadata": {},
     "output_type": "execute_result"
    }
   ],
   "source": [
    "load_mean, load_median, load_sd, load_25th, load_75th"
   ]
  },
  {
   "cell_type": "code",
   "execution_count": 35,
   "metadata": {},
   "outputs": [
    {
     "data": {
      "image/png": "[encoded data removed]",
      "text/plain": [
       "<Figure size 432x288 with 1 Axes>"
      ]
     },
     "metadata": {
      "needs_background": "light"
     },
     "output_type": "display_data"
    }
   ],
   "source": [
    "plt.hist(viral_load, bins=5);"
   ]
  },
  {
   "cell_type": "markdown",
   "metadata": {},
   "source": [
    "#### Problem 2-3: Polychlorinated biphenyls (PCBs)"
   ]
  },
  {
   "cell_type": "code",
   "execution_count": 36,
   "metadata": {},
   "outputs": [],
   "source": [
    "pcb = [1800,1800,2600,1300,520,3200,1700,2500,560,930,2300,2300,1700,720]"
   ]
  },
  {
   "cell_type": "code",
   "execution_count": 37,
   "metadata": {},
   "outputs": [],
   "source": [
    "# explicit way of calculating mean, median, standard deviation, 25th and 75th percentiles\n",
    "pcb.sort()\n",
    "pcb_mean = sum(pcb)/len(pcb)\n",
    "pcb_median = (pcb[6]+pcb[7])/2\n",
    "pcb_25th = pcb[3]\n",
    "pcb_75th = pcb[10]\n",
    "pcb_sd = (sum([(i-pcb_mean)**2 for i in pcb])/(len(pcb)-1))**0.5"
   ]
  },
  {
   "cell_type": "code",
   "execution_count": 38,
   "metadata": {},
   "outputs": [
    {
     "data": {
      "text/plain": [
       "(1709.2857142857142, 1750.0, 824.8119998913905, 930, 2300)"
      ]
     },
     "execution_count": 38,
     "metadata": {},
     "output_type": "execute_result"
    }
   ],
   "source": [
    "pcb_mean, pcb_median, pcb_sd, pcb_25th, pcb_75th"
   ]
  },
  {
   "cell_type": "code",
   "execution_count": 39,
   "metadata": {},
   "outputs": [
    {
     "data": {
      "image/png": "[encoded data removed]",
      "text/plain": [
       "<Figure size 432x288 with 1 Axes>"
      ]
     },
     "metadata": {
      "needs_background": "light"
     },
     "output_type": "display_data"
    }
   ],
   "source": [
    "plt.hist(pcb, bins=3);"
   ]
  },
  {
   "cell_type": "markdown",
   "metadata": {},
   "source": [
    "#### Problem 2-5: Rolling a pair of dice"
   ]
  },
  {
   "cell_type": "code",
   "execution_count": 105,
   "metadata": {},
   "outputs": [],
   "source": [
    "a = []\n",
    "for i in range(20000):\n",
    "    d1 = random.randrange(1,7)\n",
    "    d2 = random.randrange(1,7)\n",
    "    a.append((d1+d2)/2)"
   ]
  },
  {
   "cell_type": "code",
   "execution_count": 106,
   "metadata": {},
   "outputs": [
    {
     "data": {
      "image/png": "[encoded data removed]",
      "text/plain": [
       "<Figure size 432x288 with 1 Axes>"
      ]
     },
     "metadata": {
      "needs_background": "light"
     },
     "output_type": "display_data"
    }
   ],
   "source": [
    "plt.hist(a, bins=50);"
   ]
  },
  {
   "cell_type": "code",
   "execution_count": null,
   "metadata": {},
   "outputs": [],
   "source": []
  }
 ],
 "metadata": {
  "kernelspec": {
   "display_name": "Python 3",
   "language": "python",
   "name": "python3"
  },
  "language_info": {
   "codemirror_mode": {
    "name": "ipython",
    "version": 3
   },
   "file_extension": ".py",
   "mimetype": "text/x-python",
   "name": "python",
   "nbconvert_exporter": "python",
   "pygments_lexer": "ipython3",
   "version": "3.6.10"
  }
 },
 "nbformat": 4,
 "nbformat_minor": 4
}
